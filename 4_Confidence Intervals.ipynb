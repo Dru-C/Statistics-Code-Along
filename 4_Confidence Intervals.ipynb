{
 "cells": [
  {
   "cell_type": "markdown",
   "metadata": {},
   "source": [
    "##### Video example from Coursera Course\n",
    "\n",
    "\n",
    "### Confidence Intervals\n",
    "\n",
    "##### Best Estimate ± Margin of Error   \n",
    "\n",
    "##### Best Estimate = Unbiased Point Estimate           $$\\hat{p}$$\n",
    "##### Margin of Error = \"a few\" Estimated standard Errors\n",
    "##### \"a few\" = multiplier from appropriate distribution based on desired confidence level and sample design $$1.96$$\n",
    "\n",
    "### 95% Concidence Level <-> 0.05 Significance\n",
    "\n",
    "$$\\hat{p} \\pm 1.96 \\centerdot \\sqrt{\\frac{\\hat{p} (1 - \\hat{p})}{n}}$$\n"
   ]
  },
  {
   "cell_type": "markdown",
   "metadata": {},
   "source": [
    "### Motts Poll Background\n",
    "What proportion of parents report they use a car seat for all travel with their toddlr?\n",
    "\n",
    "Population - Parents with a toddler\n",
    "Parameter of Interest - A Proportion\n",
    "\n",
    "Construct a 95% Confidence Interval for the population proportion of parents reporting they use a car seat for all travel with their toddler"
   ]
  },
  {
   "cell_type": "code",
   "execution_count": 4,
   "metadata": {},
   "outputs": [],
   "source": [
    "import numpy as np"
   ]
  },
  {
   "cell_type": "code",
   "execution_count": 26,
   "metadata": {},
   "outputs": [],
   "source": [
    "# n is the sample size\n",
    "# y is the number of parents that responded yes to the question\n",
    "\n",
    "n = 659\n",
    "y = 540"
   ]
  },
  {
   "cell_type": "code",
   "execution_count": 27,
   "metadata": {},
   "outputs": [],
   "source": [
    "# p is the best estimate\n",
    "\n",
    "p = y/s"
   ]
  },
  {
   "cell_type": "code",
   "execution_count": 30,
   "metadata": {},
   "outputs": [
    {
     "name": "stdout",
     "output_type": "stream",
     "text": [
      "(0.7900537499137914, 0.8487929875672404)\n"
     ]
    }
   ],
   "source": [
    "# Margin of error\n",
    "# 1.96 based on 95% confidence interval.\n",
    "# \n",
    "\n",
    "pluss = p + 1.96 * np.sqrt(p *(1 - p)/n)\n",
    "minus = p - 1.96 * np.sqrt(p *(1 - p)/n)\n",
    "\n",
    "print(f'({minus}, {pluss})')"
   ]
  },
  {
   "cell_type": "code",
   "execution_count": 31,
   "metadata": {},
   "outputs": [
    {
     "name": "stdout",
     "output_type": "stream",
     "text": [
      "0.02936961882672451\n",
      "0.02936961882672451\n"
     ]
    }
   ],
   "source": [
    "# The difference between the + and minus intervals as compared to the best estimate should be the same\n",
    "\n",
    "print(pluss - p)\n",
    "print(p - minus)"
   ]
  },
  {
   "cell_type": "markdown",
   "metadata": {},
   "source": [
    "With 95% confidence the population of parents whith a toddler who use a car seat for all travel is estimated to be between 79.01% and 84.88%"
   ]
  },
  {
   "cell_type": "code",
   "execution_count": null,
   "metadata": {},
   "outputs": [],
   "source": []
  },
  {
   "cell_type": "code",
   "execution_count": null,
   "metadata": {},
   "outputs": [],
   "source": []
  },
  {
   "cell_type": "code",
   "execution_count": null,
   "metadata": {},
   "outputs": [],
   "source": []
  },
  {
   "cell_type": "code",
   "execution_count": null,
   "metadata": {},
   "outputs": [],
   "source": []
  }
 ],
 "metadata": {
  "kernelspec": {
   "display_name": "Python 3",
   "language": "python",
   "name": "python3"
  },
  "language_info": {
   "codemirror_mode": {
    "name": "ipython",
    "version": 3
   },
   "file_extension": ".py",
   "mimetype": "text/x-python",
   "name": "python",
   "nbconvert_exporter": "python",
   "pygments_lexer": "ipython3",
   "version": "3.7.4"
  }
 },
 "nbformat": 4,
 "nbformat_minor": 2
}
