{
 "cells": [
  {
   "cell_type": "markdown",
   "metadata": {},
   "source": [
    "# Population\n",
    "\n",
    "#### Notation for the population mean\n",
    "$$\\LARGE{\\mu = \\frac{\\sum_{i=1}^{N} x_{i}}{N}}$$\n",
    "\n",
    "#### Notation for the population variance\n",
    "$$\\LARGE{\\sigma^2 = \\frac{\\sum_{i=1}^{N} (x_{i} - \\mu)^2}{N}}$$\n",
    "\n",
    "#### Notation for the population standard deviation\n",
    "$$\\LARGE{\\sigma = \\sqrt {\\sigma^2 }}$$"
   ]
  },
  {
   "cell_type": "markdown",
   "metadata": {},
   "source": [
    "# Sample\n",
    "\n",
    "#### Notation for a sample mean\n",
    "$$\\LARGE{\\bar{X} = \\frac{\\sum_{i=1}^{n} x_{i}}{n}}$$\n",
    "\n",
    "#### Notation for the sample variance\n",
    "$$\\LARGE{S^2 = \\frac{\\sum_{i=1}^{n} (x_{i} - \\bar{X})^2}{n - 1}}$$\n",
    "\n",
    "#### Notation for the sample standard deviation\n",
    "$$\\LARGE{S = \\sqrt {S^2 }}$$"
   ]
  },
  {
   "cell_type": "code",
   "execution_count": 1,
   "metadata": {},
   "outputs": [],
   "source": [
    "import random\n",
    "import numpy as np"
   ]
  },
  {
   "cell_type": "code",
   "execution_count": 2,
   "metadata": {},
   "outputs": [],
   "source": [
    "population = [random.randrange(1, 10, 1) for i in range(50)]\n",
    "sample = random.choices(population, k=10)\n",
    "\n",
    "# population = [1,2,3,8,7]\n",
    "# sample = [2,3,7]"
   ]
  },
  {
   "cell_type": "code",
   "execution_count": 3,
   "metadata": {},
   "outputs": [],
   "source": [
    "def pop_var(lst):\n",
    "    mean = np.mean(lst)\n",
    "    cnt = 0\n",
    "    ttl = 0\n",
    "    for i in lst:\n",
    "        ttl += (i - mean) ** 2\n",
    "        cnt += 1\n",
    "    return ttl / cnt"
   ]
  },
  {
   "cell_type": "code",
   "execution_count": 4,
   "metadata": {},
   "outputs": [],
   "source": [
    "def samp_var(lst):\n",
    "    mean = np.mean(lst)\n",
    "    cnt = 0\n",
    "    ttl = 0\n",
    "    for i in lst:\n",
    "        ttl += (i - mean) ** 2\n",
    "        cnt += 1\n",
    "    return ttl / (cnt - 1)"
   ]
  },
  {
   "cell_type": "code",
   "execution_count": 5,
   "metadata": {},
   "outputs": [
    {
     "name": "stdout",
     "output_type": "stream",
     "text": [
      "[8, 9, 2, 5, 9, 5, 3, 3, 4, 9, 9, 9, 6, 7, 2, 9, 8, 7, 1, 3, 9, 3, 6, 4, 1, 6, 6, 6, 7, 2, 2, 2, 8, 4, 1, 1, 4, 2, 7, 3, 5, 4, 8, 4, 6, 9, 1, 7, 2, 8]\n",
      "Population mean = 5.12\n",
      "Population Varance = 7.3455999999999975\n",
      "Population Standard Deviation = 2.7102767386375874\n"
     ]
    }
   ],
   "source": [
    "print(population)\n",
    "print(f'Population mean = {np.mean(population)}')\n",
    "print(f'Population Varance = {pop_var(population)}')\n",
    "print(f'Population Standard Deviation = {np.sqrt(pop_var(population))}')"
   ]
  },
  {
   "cell_type": "code",
   "execution_count": 6,
   "metadata": {},
   "outputs": [
    {
     "name": "stdout",
     "output_type": "stream",
     "text": [
      "[4, 3, 5, 7, 9, 9, 3, 6, 5, 6]\n",
      "Sample mean = 5.7\n",
      "Sample Varance = 4.677777777777779\n",
      "Sample Standard Deviation = 2.1628170930011117\n"
     ]
    }
   ],
   "source": [
    "print(sample)\n",
    "print(f'Sample mean = {np.mean(sample)}')\n",
    "print(f'Sample Varance = {samp_var(sample)}')\n",
    "print(f'Sample Standard Deviation = {np.sqrt(samp_var(sample))}')"
   ]
  },
  {
   "cell_type": "code",
   "execution_count": null,
   "metadata": {},
   "outputs": [],
   "source": []
  },
  {
   "cell_type": "code",
   "execution_count": null,
   "metadata": {},
   "outputs": [],
   "source": []
  },
  {
   "cell_type": "code",
   "execution_count": null,
   "metadata": {},
   "outputs": [],
   "source": []
  }
 ],
 "metadata": {
  "kernelspec": {
   "display_name": "Python 3",
   "language": "python",
   "name": "python3"
  },
  "language_info": {
   "codemirror_mode": {
    "name": "ipython",
    "version": 3
   },
   "file_extension": ".py",
   "mimetype": "text/x-python",
   "name": "python",
   "nbconvert_exporter": "python",
   "pygments_lexer": "ipython3",
   "version": "3.7.3"
  }
 },
 "nbformat": 4,
 "nbformat_minor": 2
}
