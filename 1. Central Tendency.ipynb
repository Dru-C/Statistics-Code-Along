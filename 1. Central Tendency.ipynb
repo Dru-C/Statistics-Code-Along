{
 "cells": [
  {
   "cell_type": "markdown",
   "metadata": {},
   "source": [
    "#### Notation for the population mean\n",
    "$$\\LARGE{\\mu = \\frac{\\sum_{i=1}^{N} X_{i}}{N}}$$\n",
    "\n",
    "#### Notation for a sample mean\n",
    "$$\\LARGE{\\bar{X} = \\frac{\\sum_{i=1}^{n} X_{i}}{n}}$$"
   ]
  },
  {
   "cell_type": "markdown",
   "metadata": {},
   "source": [
    "#### A simple function to return the mean of a list.  The list can represent either the population or a sample, the formulas are the same, only the descriptive notation differs\n",
    "\n",
    "Some built in functions are\n",
    "\n",
    "np.mean(some_list)\n",
    "\n",
    "df[some_column].mean()"
   ]
  },
  {
   "cell_type": "code",
   "execution_count": 2,
   "metadata": {},
   "outputs": [],
   "source": [
    "def avg(lst):\n",
    "    ttl = 0\n",
    "    cnt = len(lst)\n",
    "    for i in lst:\n",
    "        ttl += i\n",
    "    return ttl/cnt"
   ]
  },
  {
   "cell_type": "markdown",
   "metadata": {},
   "source": [
    "#### Simple function for alculating the median value in a list\n",
    "\n",
    "np.median(some_list)\n",
    "\n",
    "df['some_column'].median()"
   ]
  },
  {
   "cell_type": "code",
   "execution_count": null,
   "metadata": {},
   "outputs": [],
   "source": [
    "def mid(lst):\n",
    "    cnt = len(lst)\n",
    "    lst.sort()\n",
    "    val = cnt/2\n",
    "    if cnt % 2 == 0:\n",
    "        return lst[val]\n",
    "    else:\n",
    "        val_1 = int((val - .5) - 1)  # minus 1 is for zero based index\n",
    "        val_2 = int((val + .5) - 1)  # minus 1 is for zero based index\n",
    "        lstItem1 = lst[val_1]\n",
    "        lstItem2 = lst[val_2]\n",
    "        return (lstItem1 + lstItem2) / 2"
   ]
  },
  {
   "cell_type": "markdown",
   "metadata": {},
   "source": [
    "#### Simple function for calculating the mode in a list"
   ]
  },
  {
   "cell_type": "code",
   "execution_count": null,
   "metadata": {},
   "outputs": [],
   "source": [
    "def mode(lst):\n",
    "    dict = {}\n",
    "    \n",
    "    for i in lst:\n",
    "        if i in dict:\n",
    "            newVal = dict[i] + 1\n",
    "            dict[i] = newVal\n",
    "        else:\n",
    "            dict[i] = 1\n",
    "\n",
    "    mode_lst = []\n",
    "    maxVal = max(dict.values())\n",
    "\n",
    "    for num, cnt in dict.items():\n",
    "        if cnt == maxVal:\n",
    "            # mode_lst[idx] = num\n",
    "            mode_lst.append(num)\n",
    "\n",
    "    return mode_lst"
   ]
  },
  {
   "cell_type": "code",
   "execution_count": null,
   "metadata": {},
   "outputs": [],
   "source": []
  },
  {
   "cell_type": "code",
   "execution_count": null,
   "metadata": {},
   "outputs": [],
   "source": []
  },
  {
   "cell_type": "code",
   "execution_count": null,
   "metadata": {},
   "outputs": [],
   "source": []
  },
  {
   "cell_type": "code",
   "execution_count": null,
   "metadata": {},
   "outputs": [],
   "source": []
  },
  {
   "cell_type": "code",
   "execution_count": null,
   "metadata": {},
   "outputs": [],
   "source": []
  },
  {
   "cell_type": "code",
   "execution_count": null,
   "metadata": {},
   "outputs": [],
   "source": []
  },
  {
   "cell_type": "code",
   "execution_count": null,
   "metadata": {},
   "outputs": [],
   "source": []
  }
 ],
 "metadata": {
  "kernelspec": {
   "display_name": "Python 3",
   "language": "python",
   "name": "python3"
  },
  "language_info": {
   "codemirror_mode": {
    "name": "ipython",
    "version": 3
   },
   "file_extension": ".py",
   "mimetype": "text/x-python",
   "name": "python",
   "nbconvert_exporter": "python",
   "pygments_lexer": "ipython3",
   "version": "3.7.3"
  }
 },
 "nbformat": 4,
 "nbformat_minor": 2
}
