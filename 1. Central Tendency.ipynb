{
 "cells": [
  {
   "cell_type": "markdown",
   "metadata": {},
   "source": [
    "#### Notation for the population mean\n",
    "$$\\LARGE{\\mu = \\frac{\\sum_{i=1}^{N} X_{i}}{N}}$$\n",
    "\n",
    "#### Notation for a sample mean\n",
    "$$\\LARGE{\\bar{X} = \\frac{\\sum_{i=1}^{n} X_{i}}{n}}$$"
   ]
  },
  {
   "cell_type": "code",
   "execution_count": 36,
   "metadata": {},
   "outputs": [],
   "source": [
    "import numpy as np\n",
    "import statistics as st"
   ]
  },
  {
   "cell_type": "code",
   "execution_count": 37,
   "metadata": {},
   "outputs": [],
   "source": [
    "odd_list = [2,3,4,5,5,6,10]\n",
    "even_list = [3,3,4,5,5,9]"
   ]
  },
  {
   "cell_type": "markdown",
   "metadata": {},
   "source": [
    "#### A simple function to return the mean of a list.  The list can represent either the population or a sample, the formulas are the same, only the descriptive notation differs"
   ]
  },
  {
   "cell_type": "code",
   "execution_count": 38,
   "metadata": {},
   "outputs": [],
   "source": [
    "def avg(lst):\n",
    "    ttl = 0\n",
    "    cnt = len(lst)\n",
    "    for i in lst:\n",
    "        ttl += i\n",
    "    return ttl/cnt"
   ]
  },
  {
   "cell_type": "code",
   "execution_count": 39,
   "metadata": {},
   "outputs": [
    {
     "name": "stdout",
     "output_type": "stream",
     "text": [
      "Numpy mean: 5.0\n",
      "My mean: 5.0\n"
     ]
    }
   ],
   "source": [
    "print(f'Numpy mean: {np.mean(odd_list)}')\n",
    "print(f'My mean: {avg(odd_list)}')"
   ]
  },
  {
   "cell_type": "markdown",
   "metadata": {},
   "source": [
    "#### Simple function for alculating the median value in a list"
   ]
  },
  {
   "cell_type": "code",
   "execution_count": 40,
   "metadata": {},
   "outputs": [],
   "source": [
    "def mid(lst):\n",
    "    cnt = len(lst)\n",
    "    lst.sort()\n",
    "    val = cnt/2\n",
    "    if cnt % 2 == 0:\n",
    "        val_1 = int(val)\n",
    "        val_2 = int(val - 1)\n",
    "        return (lst[val_1] + lst[val_2]) / 2\n",
    "    else:\n",
    "        val_3 = int((val + .5) - 1) \n",
    "        return lst[val_3]"
   ]
  },
  {
   "cell_type": "code",
   "execution_count": 41,
   "metadata": {},
   "outputs": [
    {
     "name": "stdout",
     "output_type": "stream",
     "text": [
      "Numpy median - odd list: 5.0\n",
      "My median - odd list: 5\n",
      "Numpy median - even list: 4.5\n",
      "My median - even list: 4.5\n"
     ]
    }
   ],
   "source": [
    "print(f'Numpy median - odd list: {np.median(odd_list)}')\n",
    "print(f'My median - odd list: {mid(odd_list)}')\n",
    "\n",
    "print(f'Numpy median - even list: {np.median(even_list)}')\n",
    "print(f'My median - even list: {mid(even_list)}')"
   ]
  },
  {
   "cell_type": "markdown",
   "metadata": {},
   "source": [
    "#### Simple function for calculating the mode in a list"
   ]
  },
  {
   "cell_type": "code",
   "execution_count": 48,
   "metadata": {},
   "outputs": [],
   "source": [
    "def my_mode(lst):\n",
    "    dict = {}\n",
    "    \n",
    "    for i in lst:\n",
    "        if i in dict:\n",
    "            dict[i] = dict[i] + 1\n",
    "        else:\n",
    "            dict[i] = 1\n",
    "\n",
    "    mode_lst = []\n",
    "    maxVal = max(dict.values())\n",
    "\n",
    "    for num, cnt in dict.items():\n",
    "        if cnt == maxVal:\n",
    "            mode_lst.append(num)\n",
    "\n",
    "    return mode_lst"
   ]
  },
  {
   "cell_type": "code",
   "execution_count": 49,
   "metadata": {},
   "outputs": [
    {
     "name": "stdout",
     "output_type": "stream",
     "text": [
      "Stats mode - odd list: 5\n",
      "My mode - odd list: [5]\n",
      "My mode - even list: [3, 5]\n"
     ]
    }
   ],
   "source": [
    "print(f'Stats mode - odd list: {st.mode(odd_list)}')\n",
    "print(f'My mode - odd list: {my_mode(odd_list)}')\n",
    "\n",
    "# print(f'Stats mode - even list: {st.mode(even_list)}')    Fails due to non unique mode\n",
    "print(f'My mode - even list: {my_mode(even_list)}')"
   ]
  },
  {
   "cell_type": "code",
   "execution_count": null,
   "metadata": {},
   "outputs": [],
   "source": []
  },
  {
   "cell_type": "code",
   "execution_count": null,
   "metadata": {},
   "outputs": [],
   "source": []
  },
  {
   "cell_type": "code",
   "execution_count": null,
   "metadata": {},
   "outputs": [],
   "source": []
  },
  {
   "cell_type": "code",
   "execution_count": null,
   "metadata": {},
   "outputs": [],
   "source": []
  },
  {
   "cell_type": "code",
   "execution_count": null,
   "metadata": {},
   "outputs": [],
   "source": []
  },
  {
   "cell_type": "code",
   "execution_count": null,
   "metadata": {},
   "outputs": [],
   "source": []
  }
 ],
 "metadata": {
  "kernelspec": {
   "display_name": "Python 3",
   "language": "python",
   "name": "python3"
  },
  "language_info": {
   "codemirror_mode": {
    "name": "ipython",
    "version": 3
   },
   "file_extension": ".py",
   "mimetype": "text/x-python",
   "name": "python",
   "nbconvert_exporter": "python",
   "pygments_lexer": "ipython3",
   "version": "3.7.3"
  }
 },
 "nbformat": 4,
 "nbformat_minor": 2
}
